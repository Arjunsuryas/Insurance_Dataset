def get_feature_names(preproc, num, cat):
    num_names = num
    cat_names = preproc.named_transformers_['cat'].named_steps['onehot'].get_feature_names_out(cat)
    return num_names + list(cat_names)

feature_names = get_feature_names(preprocessor, numeric_features, categorical_features)

# For Regression
rfr_model = best_rfr.named_steps['regressor']
imp_reg = pd.DataFrame({'Feature': feature_names, 'Importance': rfr_model.feature_importances_})
print("\nTop Regression Features:")
display(imp_reg.sort_values('Importance', ascending=False).head(10))

# For Classification
rfc_model = best_rfc.named_steps['classifier']
imp_clf = pd.DataFrame({'Feature': feature_names, 'Importance': rfc_model.feature_importances_})
print("\nTop Classification Features:")
display(imp_clf.sort_values('Importance', ascending=False).head(10))
