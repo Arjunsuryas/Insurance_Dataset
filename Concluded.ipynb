print(" Gradient Boosting models (XGBoost, LightGBM) significantly improved accuracy.")
print(" Feature engineering (BMI, Age groups, interactions) added meaningful variance.")
print(" Cross-validation and feature selection enhanced generalization.")
print("\n Use this improved pipeline for your final project submission.")
