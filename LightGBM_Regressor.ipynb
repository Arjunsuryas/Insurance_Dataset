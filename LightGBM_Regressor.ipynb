#  Model 2: LightGBM Regressor
from lightgbm import LGBMRegressor

lgb_pipe = Pipeline([
    ('preprocessor', preprocessor),
    ('model', LGBMRegressor(
        n_estimators=500,
        learning_rate=0.05,
        max_depth=-1,
        num_leaves=31,
        subsample=0.8,
        colsample_bytree=0.8,
        random_state=42
    ))
])

lgb_pipe.fit(X_train, y_train)
y_pred_lgb = lgb_pipe.predict(X_test)

print("LightGBM R²:", r2_score(y_test, y_pred_lgb))
print("LightGBM RMSE:", np.sqrt(mean_squared_error(y_test, y_pred_lgb)))
