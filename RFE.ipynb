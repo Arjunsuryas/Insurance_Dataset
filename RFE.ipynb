# Feature Selection using RFE
from sklearn.feature_selection import RFE
from sklearn.linear_model import LinearRegression

X_preprocessed = preprocessor.fit_transform(X)
estimator = LinearRegression()
selector = RFE(estimator, n_features_to_select=10)
selector.fit(X_preprocessed, y)

print("Selected Feature Mask:", selector.support_)
print("Feature Ranking:", selector.ranking_)
