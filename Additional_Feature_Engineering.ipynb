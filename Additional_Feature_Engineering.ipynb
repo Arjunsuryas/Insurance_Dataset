#Extra

#  Feature Engineering
import pandas as pd
import numpy as np

# Create BMI Category
def bmi_category(bmi):
    if bmi < 18.5:
        return 'Underweight'
    elif 18.5 <= bmi < 25:
        return 'Normal'
    elif 25 <= bmi < 30:
        return 'Overweight'
    else:
        return 'Obese'

df['bmi_category'] = df['bmi'].apply(bmi_category)

# Create Age Groups
def age_group(age):
    if age < 30:
        return 'Young'
    elif 30 <= age < 50:
        return 'Middle-Aged'
    else:
        return 'Senior'

df['age_group'] = df['age'].apply(age_group)

# Interaction Feature
df['bmi_smoker'] = df['bmi'] * df['smoker'].map({'yes': 1, 'no': 0})

print(" Added new features: 'bmi_category', 'age_group', and 'bmi_smoker'")
df.head()
