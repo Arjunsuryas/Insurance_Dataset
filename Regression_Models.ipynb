def regression_metrics(y_true, y_pred):
    return {
        'MAE': mean_absolute_error(y_true, y_pred),
        'RMSE': mean_squared_error(y_true, y_pred, squared=False),
        'R2': r2_score(y_true, y_pred)
    }

# Linear Regression
lr_pipeline = Pipeline([
    ('preprocessor', preprocessor),
    ('regressor', LinearRegression())
])
lr_pipeline.fit(X_train, y_reg_train)
y_lr_pred = lr_pipeline.predict(X_test)
lr_results = regression_metrics(y_reg_test, y_lr_pred)
print("Linear Regression results:", lr_results)

# Random Forest Regressor
rfr_pipeline = Pipeline([
    ('preprocessor', preprocessor),
    ('regressor', RandomForestRegressor(random_state=RANDOM_STATE))
])

param_grid_rfr = {
    'regressor__n_estimators': [100],
    'regressor__max_depth': [8, None]
}

grid_rfr = GridSearchCV(rfr_pipeline, param_grid_rfr, cv=3, scoring='neg_mean_absolute_error')
grid_rfr.fit(X_train, y_reg_train)
best_rfr = grid_rfr.best_estimator_

y_rfr_pred = best_rfr.predict(X_test)
rfr_results = regression_metrics(y_reg_test, y_rfr_pred)
print("Random Forest Regressor results:", rfr_results)

# Plot
plt.scatter(y_reg_test, y_rfr_pred)
plt.xlabel("Actual Charges")
plt.ylabel("Predicted Charges")
plt.title("Actual vs Predicted — RandomForestRegressor")
plt.show()
