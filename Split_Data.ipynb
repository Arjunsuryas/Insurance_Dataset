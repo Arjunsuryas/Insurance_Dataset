X_train, X_test, y_reg_train, y_reg_test, y_clf_train, y_clf_test = train_test_split(
    X, y_reg, y_clf, test_size=0.2, random_state=RANDOM_STATE, stratify=y_clf
)

print("Training size:", X_train.shape)
print("Testing size:", X_test.shape)
