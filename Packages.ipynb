# Step 1: Import Libraries
import os
import pandas as pd
import numpy as np
import matplotlib.pyplot as plt
from sklearn.model_selection import train_test_split, GridSearchCV
from sklearn.preprocessing import StandardScaler, OneHotEncoder
from sklearn.compose import ColumnTransformer
from sklearn.pipeline import Pipeline
from sklearn.impute import SimpleImputer
from sklearn.linear_model import LinearRegression, LogisticRegression
from sklearn.ensemble import RandomForestRegressor, RandomForestClassifier
from sklearn.metrics import (
    mean_absolute_error, mean_squared_error, r2_score,
    accuracy_score, precision_score, recall_score, f1_score,
    classification_report, confusion_matrix
)
from sklearn.cluster import KMeans
from sklearn.metrics import silhouette_score
import joblib

# Ignore warnings for clean output
import warnings
warnings.filterwarnings("ignore")

# Set paths
DATA_PATH = "insurance.csv"   # update this if needed
OUTPUT_DIR = "models"
os.makedirs(OUTPUT_DIR, exist_ok=True)

RANDOM_STATE = 42
print("Libraries loaded successfully!")
