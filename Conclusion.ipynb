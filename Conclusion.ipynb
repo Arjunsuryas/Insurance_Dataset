import os

OUTPUT_DIR = "./output"
os.makedirs(OUTPUT_DIR, exist_ok=True)

conclusion = (
    " Final Project Summary\n"
    "-------------------------\n"
    "1️ Regression (RandomForestRegressor) achieved the best R² and lowest RMSE.\n"
    "2️ Classification (Logistic Regression) gave strong accuracy and precision.\n"
    "3️ Clustering (KMeans) identified distinct client groups with silhouette score above 0.5.\n\n"
    "Overall: Regression performed best for predicting insurance charges accurately.\n"
)

print(conclusion)

#  FIX: write using UTF-8 encoding to support emojis and symbols
with open(os.path.join(OUTPUT_DIR, "conclusion.txt"), "w", encoding="utf-8") as f:
    f.write(conclusion)

print("Conclusion saved successfully at:", os.path.join(OUTPUT_DIR, "conclusion.txt"))
