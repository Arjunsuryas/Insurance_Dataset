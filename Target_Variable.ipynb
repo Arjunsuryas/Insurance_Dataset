median_charge = df['charges'].median()
df['high_charge'] = (df['charges'] > median_charge).astype(int)

print(f"Median charge value: {median_charge:.2f}")
print(df['high_charge'].value_counts(normalize=True))
display(df.head())
