# Step 4: Preprocessing (fixed for newer sklearn)
from sklearn.preprocessing import OneHotEncoder
from packaging import version
import sklearn

X = df.drop(['charges', 'high_charge'], axis=1)
y_reg = df['charges']
y_clf = df['high_charge']

numeric_features = X.select_dtypes(include=['int64','float64']).columns.tolist()
categorical_features = X.select_dtypes(include=['object']).columns.tolist()

print("Numeric features:", numeric_features)
print("Categorical features:", categorical_features)

numeric_transformer = Pipeline([
    ('imputer', SimpleImputer(strategy='median')),
    ('scaler', StandardScaler())
])

# Check sklearn version to use correct argument
if version.parse(sklearn.__version__) >= version.parse("1.4"):
    categorical_transformer = Pipeline([
        ('imputer', SimpleImputer(strategy='most_frequent')),
        ('onehot', OneHotEncoder(handle_unknown='ignore', sparse_output=False))
    ])
else:
    categorical_transformer = Pipeline([
        ('imputer', SimpleImputer(strategy='most_frequent')),
        ('onehot', OneHotEncoder(handle_unknown='ignore', sparse=False))
    ])

preprocessor = ColumnTransformer([
    ('num', numeric_transformer, numeric_features),
    ('cat', categorical_transformer, categorical_features)
])

print(f" Preprocessing pipeline ready! (scikit-learn {sklearn.__version__})")
