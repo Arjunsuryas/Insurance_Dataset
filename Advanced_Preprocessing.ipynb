 #Encode and Split Data
from sklearn.model_selection import train_test_split
from sklearn.preprocessing import OneHotEncoder, StandardScaler
from sklearn.compose import ColumnTransformer
from sklearn.pipeline import Pipeline

# Define features and target
X = df.drop(['charges'], axis=1)
y = df['charges']

# Identify categorical and numeric features
categorical = X.select_dtypes(include='object').columns.tolist()
numeric = X.select_dtypes(include=['int64', 'float64']).columns.tolist()

# Preprocessor
preprocessor = ColumnTransformer([
    ('num', StandardScaler(), numeric),
    ('cat', OneHotEncoder(handle_unknown='ignore', sparse_output=False), categorical)
])

# Split data
X_train, X_test, y_train, y_test = train_test_split(X, y, test_size=0.2, random_state=42)
print("Data split and preprocessing ready")
