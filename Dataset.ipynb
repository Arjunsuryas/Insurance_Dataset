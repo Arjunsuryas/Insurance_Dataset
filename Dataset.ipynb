# Step 2: Load & Explore Dataset
df = pd.read_csv(DATA_PATH)
print("Dataset loaded successfully!")
print("Shape:", df.shape)

display(df.head())
print("\nInfo:")
display(df.info())

print("\nMissing Values:")
display(df.isnull().sum())

print("\nSummary Statistics:")
display(df.describe(include='all'))
