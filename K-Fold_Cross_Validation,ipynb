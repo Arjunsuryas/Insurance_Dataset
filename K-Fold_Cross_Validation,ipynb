from sklearn.model_selection import cross_val_score

cv_scores = cross_val_score(
    xgb_pipe, X, y,
    scoring='r2',
    cv=5,
    n_jobs=-1
)

print("Cross-Validation R² Scores:", cv_scores)
print("Mean CV R²:", np.mean(cv_scores))
