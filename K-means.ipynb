X_full_preprocessed = preprocessor.fit_transform(X)

best_k, best_sil = 0, -1
sil_scores = {}

for k in range(2, 7):
    kmeans = KMeans(n_clusters=k, random_state=RANDOM_STATE, n_init=10)
    labels = kmeans.fit_predict(X_full_preprocessed)
    sil = silhouette_score(X_full_preprocessed, labels)
    sil_scores[k] = sil
    if sil > best_sil:
        best_sil = sil
        best_k = k

print("Silhouette Scores:", sil_scores)
print(f"Best number of clusters: {best_k}, Silhouette: {best_sil:.4f}")

# Fit final model
kmeans_final = KMeans(n_clusters=best_k, random_state=RANDOM_STATE, n_init=10)
df['cluster'] = kmeans_final.fit_predict(X_full_preprocessed)

#  FIX: Only compute mean for numeric columns
numeric_df = df.select_dtypes(include=['number'])
print("\nCluster-wise averages (numeric columns only):")
display(numeric_df.groupby('cluster').mean())
